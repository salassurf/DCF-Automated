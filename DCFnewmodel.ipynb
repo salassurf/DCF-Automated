{
 "cells": [
  {
   "cell_type": "markdown",
   "id": "f72e2637-aa6a-411d-9c0f-bfa340e58004",
   "metadata": {},
   "source": [
    "**Author:** David Salas,MBA \n",
    "**Date:** July 2025  \n",
    "**Description:**  \n",
    "This project automates a full Discounted Cash Flow (DCF) valuation using financial data from the Financial Modeling Prep API. It calculates key financial metrics including:\n",
    "\n",
    "- Free Cash Flow (FCF) Projections\n",
    "- Cost of Equity and Debt\n",
    "- WACC (Weighted Average Cost of Capital)\n",
    "- Terminal Value\n",
    "- Net Present Value (NPV)\n",
    "\n",
    "**Dependencies:**  \n",
    "- Python 3.x  \n",
    "- `requests`, `pandas`, `matplotlib`\n",
    "\n",
    "**API Used:**  \n",
    "- [Financial Modeling Prep](https://financialmodelingprep.com/)"
   ]
  },
  {
   "cell_type": "code",
   "execution_count": 76,
   "id": "1ec3fc09-5918-4e05-a768-f3fc6118aece",
   "metadata": {},
   "outputs": [],
   "source": [
    "import yfinance as yf\n",
    "import pandas as pd\n",
    "import numpy as np\n",
    "import matplotlib.pyplot as plt\n",
    "import matplotlib.ticker as ticker\n",
    "import time \n",
    "import json\n",
    "import requests"
   ]
  },
  {
   "cell_type": "code",
   "execution_count": 170,
   "id": "dfa99618-0824-4d4d-affa-1a26e42bba6e",
   "metadata": {},
   "outputs": [
    {
     "name": "stdout",
     "output_type": "stream",
     "text": [
      "✅ Data for cash flows obtained: UNH\n",
      "[20123000000, 19889000000, 23404000000, 25682000000, 20705000000]\n"
     ]
    }
   ],
   "source": [
    "\n",
    "\n",
    "API_KEY = \"R2cXGWWQBtHBIqEhlmFDz1hUkEhN0wSY\"  # Your correct API key\n",
    "BASE_URL = \"https://financialmodelingprep.com/api/v3\"\n",
    "\n",
    "ticker = \"UNH\"  # Change ticker here\n",
    "\n",
    "def get_cash_flow_statements(ticker, years=5):\n",
    "    url = f\"{BASE_URL}/cash-flow-statement/{ticker}?limit={years}&apikey={API_KEY}\"\n",
    "    response = requests.get(url)\n",
    "    data = response.json()\n",
    "\n",
    "    if not isinstance(data, list) or len(data) == 0:\n",
    "        print(f\"❌ No Data for cash flows {ticker}.\")\n",
    "        return None\n",
    "\n",
    "    symbol_from_api = data[0].get('symbol', 'N/A')\n",
    "    if symbol_from_api != ticker.upper():\n",
    "        print(f\"⚠️ Warning: we need '{ticker.upper()}' But API returned '{symbol_from_api}'.\")\n",
    "\n",
    "    print(f\"✅ Data for cash flows obtained: {symbol_from_api}\")\n",
    "\n",
    "    fcf_list = []\n",
    "    for year_data in data:\n",
    "        if 'freeCashFlow' in year_data:\n",
    "            fcf_list.append(year_data['freeCashFlow'])\n",
    "\n",
    "    return fcf_list[::-1]  # Chronological order\n",
    "\n",
    "# Get cash flow data\n",
    "fcf_data = get_cash_flow_statements(ticker)\n",
    "print(fcf_data)"
   ]
  },
  {
   "cell_type": "code",
   "execution_count": 171,
   "id": "73a3560b-67ed-4949-b5e1-11f27c5b9c21",
   "metadata": {},
   "outputs": [
    {
     "name": "stdout",
     "output_type": "stream",
     "text": [
      "✅ Data for cash flows obtained: UNH\n",
      "📈 CAGR calculated: 0.0072 (0.72%)\n"
     ]
    }
   ],
   "source": [
    "#  CAGR\n",
    "\n",
    "def calculate_cagr(fcf_list):\n",
    "    if not fcf_list or len(fcf_list) < 2:\n",
    "        print(\"❌ Need at least 2 years to calculate CAGR.\")\n",
    "        return None\n",
    "\n",
    "    start = fcf_list[0]\n",
    "    end = fcf_list[-1]\n",
    "    n = len(fcf_list) - 1\n",
    "\n",
    "    if start <= 0:\n",
    "        print(\"❌ The initial FCF must be positive to calculate CAGR.\")\n",
    "        return None\n",
    "\n",
    "    cagr = (end / start) ** (1 / n) - 1\n",
    "    print(f\"📈 CAGR calculated: {cagr:.4f} ({cagr*100:.2f}%)\")\n",
    "    return cagr\n",
    "\n",
    "# Full execution\n",
    "fcf_data = get_cash_flow_statements(ticker)\n",
    "if fcf_data:\n",
    "    cagr = calculate_cagr(fcf_data)"
   ]
  },
  {
   "cell_type": "code",
   "execution_count": 172,
   "id": "10b227ab-d671-4338-8bed-bb754a58702d",
   "metadata": {},
   "outputs": [
    {
     "name": "stdout",
     "output_type": "stream",
     "text": [
      "✅ Data for cash flows obtained: UNH\n",
      "📈 CAGR calculated: 0.0072 (0.72%)\n"
     ]
    },
    {
     "name": "stdin",
     "output_type": "stream",
     "text": [
      "Use calculated CAGR? (yes/no):  yes\n"
     ]
    },
    {
     "name": "stdout",
     "output_type": "stream",
     "text": [
      "✅ Using Growth Rate: 0.72%\n"
     ]
    }
   ],
   "source": [
    "fcf_data = get_cash_flow_statements(ticker)\n",
    "if fcf_data:\n",
    "    cagr = calculate_cagr(fcf_data)\n",
    "\n",
    "    # Ask user to choose between CAGR or manual input\n",
    "    if cagr is not None:\n",
    "        use_cagr = input(\"Use calculated CAGR? (yes/no): \").strip().lower()\n",
    "        if use_cagr == \"yes\":\n",
    "            growth_rate = cagr\n",
    "        else:\n",
    "            growth_rate = float(input(\"Enter your manual annual growth rate (e.g., 0.06 for 6%): \"))\n",
    "    else:\n",
    "        # Fallback: only manual input\n",
    "        growth_rate = float(input(\"Enter your manual annual growth rate (e.g., 0.06 for 6%): \"))\n",
    "\n",
    "    print(f\"✅ Using Growth Rate: {growth_rate:.2%}\")\n",
    "\n",
    "    # Save this to use in your DCF next\n",
    "    initial_fcf = fcf_data[-1]  # Most recent year FCF\n",
    "else:\n",
    "    print(\"❌ Could not fetch FCF data. Check the ticker or API.\")"
   ]
  },
  {
   "cell_type": "code",
   "execution_count": 175,
   "id": "eb2a7f9f-576f-4462-8079-ca4f0a66f17d",
   "metadata": {},
   "outputs": [],
   "source": [
    "#BETA\n",
    "def get_beta(ticker):\n",
    "    url = f\"{BASE_URL}/profile/{ticker}?apikey={API_KEY}\"\n",
    "    response = requests.get(url)\n",
    "    data = response.json()\n",
    "    try:\n",
    "        beta = data[0]['beta']\n",
    "        return beta\n",
    "    except (KeyError, IndexError):\n",
    "        print(\"❌ Could not retrieve the beta.\")\n",
    "        return None\n",
    "    "
   ]
  },
  {
   "cell_type": "code",
   "execution_count": 176,
   "id": "01ae0c40-4529-4eb5-80de-e56c5af5cabc",
   "metadata": {},
   "outputs": [],
   "source": [
    "def project_fcf_from_ltm(ltm_fcf, growth_rate, years=5):\n",
    "    projections = []\n",
    "    fcf = ltm_fcf\n",
    "    for _ in range(years):\n",
    "        fcf *= (1 + growth_rate)\n",
    "        projections.append(fcf)\n",
    "    return projections"
   ]
  },
  {
   "cell_type": "code",
   "execution_count": 177,
   "id": "0c911dcc-58a0-4434-8fe2-e8fc1398ea2c",
   "metadata": {},
   "outputs": [],
   "source": [
    "# Step 2: Calculate the Cost of Equity (CAPM)\n",
    "def calculate_cost_of_equity(beta, risk_free_rate=0.043, market_premium=0.05):\n",
    "    return risk_free_rate + beta * market_premium"
   ]
  },
  {
   "cell_type": "code",
   "execution_count": 178,
   "id": "920499ce-f1c1-4525-bd45-c2b91dc4317f",
   "metadata": {},
   "outputs": [
    {
     "name": "stdout",
     "output_type": "stream",
     "text": [
      "📊 Beta: 0.45\n",
      "💰 Cost of Equity (Re): 0.0657 (6.57%)\n"
     ]
    }
   ],
   "source": [
    "beta = get_beta(ticker)\n",
    "if beta is not None:\n",
    "    cost_of_equity = calculate_cost_of_equity(beta)\n",
    "    print(f\"📊 Beta: {beta:.2f}\")\n",
    "    print(f\"💰 Cost of Equity (Re): {cost_of_equity:.4f} ({cost_of_equity*100:.2f}%)\")\n",
    "else:\n",
    "    print(\"Could not calculate the cost of equity.\")"
   ]
  },
  {
   "cell_type": "code",
   "execution_count": 179,
   "id": "f7b1f549-edb2-42cf-87c0-db9d0a70dd1d",
   "metadata": {},
   "outputs": [],
   "source": [
    "# Cost of debt\n",
    "\n",
    "def estimate_cost_of_debt(ticker):\n",
    "    # Get income statement\n",
    "    url_income = f\"{BASE_URL}/income-statement/{ticker}?limit=1&apikey={API_KEY}\"\n",
    "    income_response = requests.get(url_income)\n",
    "    income_data = income_response.json()\n",
    "\n",
    "    # Get balance sheet\n",
    "    url_balance = f\"{BASE_URL}/balance-sheet-statement/{ticker}?limit=1&apikey={API_KEY}\"\n",
    "    balance_response = requests.get(url_balance)\n",
    "    balance_data = balance_response.json()\n",
    "\n",
    "    try:\n",
    "        interest_expense = abs(income_data[0]['interestExpense'])  # Can be negative\n",
    "        total_debt = balance_data[0]['totalDebt']\n",
    "        cost_of_debt = interest_expense / total_debt\n",
    "\n",
    "        print(f\"💵 Interest Expense: ${interest_expense:,.0f}\")\n",
    "        print(f\"💰 Total Debt: ${total_debt:,.0f}\")\n",
    "        print(f\"📉 Cost of Debt for {ticker.upper()}: {cost_of_debt:.2%}\")\n",
    "\n",
    "        return cost_of_debt, total_debt  # Return both\n",
    "    except (KeyError, IndexError, ZeroDivisionError) as e:\n",
    "        print(\"❌ Error calculating cost of debt:\", e)\n",
    "        return None, None"
   ]
  },
  {
   "cell_type": "code",
   "execution_count": 180,
   "id": "0e43b6ff-e866-455a-abba-8e8ce17854f7",
   "metadata": {},
   "outputs": [
    {
     "name": "stdout",
     "output_type": "stream",
     "text": [
      "💵 Interest Expense: $3,906,000,000\n",
      "💰 Total Debt: $76,904,000,000\n",
      "📉 Cost of Debt for UNH: 5.08%\n"
     ]
    }
   ],
   "source": [
    "cost_of_debt, total_debt = estimate_cost_of_debt(ticker)"
   ]
  },
  {
   "cell_type": "code",
   "execution_count": 181,
   "id": "f5dbeb36-2ad1-4e3f-9a96-e8b0e57a0774",
   "metadata": {},
   "outputs": [
    {
     "name": "stdout",
     "output_type": "stream",
     "text": [
      "⚠️ Shares Outstanding estimated manually.\n",
      "📊 Ticker: UNH\n",
      "💼 Market Cap: $257,241,318,360.00\n",
      "📈 Shares Outstanding: 907,140,000\n",
      "💼 Price: $283.57\n"
     ]
    }
   ],
   "source": [
    "def get_market_cap_and_shares(ticker):\n",
    "    url = f\"{BASE_URL}/profile/{ticker}?apikey={API_KEY}\"\n",
    "    response = requests.get(url)\n",
    "\n",
    "    try:\n",
    "        data = response.json()\n",
    "        profile = data[0]\n",
    "\n",
    "        market_cap = profile.get(\"mktCap\")\n",
    "        shares_outstanding = profile.get(\"sharesOutstanding\")\n",
    "        price = profile.get(\"price\")\n",
    "\n",
    "        if shares_outstanding is None and market_cap and price:\n",
    "            shares_outstanding = market_cap / price\n",
    "            print(\"⚠️ Shares Outstanding estimated manually.\")\n",
    "\n",
    "        print(f\"📊 Ticker: {ticker.upper()}\")\n",
    "        print(f\"💼 Market Cap: ${market_cap:,.2f}\")\n",
    "        print(f\"📈 Shares Outstanding: {shares_outstanding:,.0f}\")\n",
    "        print(f\"💼 Price: ${price:,.2f}\")\n",
    "\n",
    "        return market_cap, shares_outstanding, price  # Modified to return price\n",
    "\n",
    "    except Exception as e:\n",
    "        print(\"❌ Error obtaining data:\", e)\n",
    "        return None, None, None\n",
    "\n",
    "# Fetch data\n",
    "market_cap, shares_outstanding, price = get_market_cap_and_shares(ticker)\n",
    "\n"
   ]
  },
  {
   "cell_type": "code",
   "execution_count": 182,
   "id": "85791699-5f40-4d98-8692-36b3994ea41a",
   "metadata": {},
   "outputs": [
    {
     "name": "stdout",
     "output_type": "stream",
     "text": [
      "✅ WACC for UNH: 5.98%\n"
     ]
    }
   ],
   "source": [
    "def calculate_wacc(market_cap, total_debt, cost_of_equity, cost_of_debt, tax_rate=0.21):\n",
    "    \"\"\"Calculates the WACC using the provided inputs\"\"\"\n",
    "    if market_cap is None or total_debt is None:\n",
    "        print(\"❌ Error: Market cap or total debt is not defined.\")\n",
    "        return None\n",
    "\n",
    "    V = market_cap + total_debt  # Total firm value\n",
    "    E = market_cap               # Market value of equity\n",
    "    D = total_debt               # Value of debt\n",
    "\n",
    "    wacc = (E / V) * cost_of_equity + (D / V) * cost_of_debt * (1 - tax_rate)\n",
    "    return wacc\n",
    "\n",
    "# 👇 Calculate WACC\n",
    "wacc = calculate_wacc(market_cap, total_debt, cost_of_equity, cost_of_debt)\n",
    "if wacc is not None:\n",
    "    print(f\"✅ WACC for {ticker.upper()}: {wacc:.2%}\")"
   ]
  },
  {
   "cell_type": "code",
   "execution_count": 183,
   "id": "3f9af159-a1ae-4ad6-b54b-465d0438c59d",
   "metadata": {},
   "outputs": [
    {
     "name": "stdout",
     "output_type": "stream",
     "text": [
      "\n",
      "📈 Projected FCFs for the next 5 years:\n",
      "Year 1: $20,853,111,325.90\n",
      "Year 2: $21,002,282,152.64\n",
      "Year 3: $21,152,520,059.26\n",
      "Year 4: $21,303,832,679.02\n",
      "Year 5: $21,456,227,699.79\n",
      "\n",
      "🏁 Terminal Value calculated: $742,223,374,206.55\n",
      "📊 Year 5 Cash Flow: $21,456,227,699.79\n",
      "💰 Enterprise Value (DCF): $644,308,206,871.46\n"
     ]
    }
   ],
   "source": [
    "\n",
    "# Step 2: Calculate the present value of each FCF\n",
    "\"\"\"\n",
    "    Calculates the enterprise value using DCF with FCF projections,\n",
    "    WACC, and perpetual growth rate.\n",
    "\"\"\"\n",
    "def calculate_enterprise_value(initial_fcf, growth_rate, wacc, perpetual_growth, years=5):\n",
    "    projected_fcf = [initial_fcf * ((1 + growth_rate) ** i) for i in range(1, years + 1)]\n",
    "    discounted_fcf = [\n",
    "        fcf / ((1 + wacc) ** i)\n",
    "        for i, fcf in enumerate(projected_fcf, start=1)\n",
    "    ]\n",
    "    pv_fcf = sum(discounted_fcf)\n",
    "    final_fcf = projected_fcf[-1]\n",
    "    terminal_value = (final_fcf * (1 + perpetual_growth)) / (wacc - perpetual_growth)\n",
    "    discounted_terminal_value = terminal_value / ((1 + wacc) ** years)\n",
    "    enterprise_value = pv_fcf + discounted_terminal_value\n",
    "    return enterprise_value, projected_fcf, terminal_value\n",
    "\n",
    "\n",
    "if fcf_data and growth_rate is not None and wacc is not None:\n",
    "    initial_fcf = fcf_data[-1]  # Most recent FCF\n",
    "    projection_years = 5\n",
    "\n",
    "    enterprise_value, fcf_proj, terminal_value = calculate_enterprise_value(\n",
    "        initial_fcf=initial_fcf,\n",
    "        growth_rate=growth_rate,\n",
    "        wacc=wacc,\n",
    "        perpetual_growth=perpetual_growth,\n",
    "        years=projection_years\n",
    "    )\n",
    "\n",
    "    print(\"\\n📈 Projected FCFs for the next 5 years:\")\n",
    "    for i, fcf in enumerate(fcf_proj, start=1):\n",
    "        print(f\"Year {i}: ${fcf:,.2f}\")\n",
    "\n",
    "    print(f\"\\n🏁 Terminal Value calculated: ${terminal_value:,.2f}\")\n",
    "    print(f\"📊 Year 5 Cash Flow: ${fcf_proj[-1]:,.2f}\")\n",
    "    print(f\"💰 Enterprise Value (DCF): ${enterprise_value:,.2f}\")\n",
    "\n",
    "else:\n",
    "    print(\"❌ Missing data: Ensure you have FCF data, growth rate, and WACC calculated.\")\n",
    "\n"
   ]
  },
  {
   "cell_type": "code",
   "execution_count": 184,
   "id": "9988ed44-6c63-4c54-b346-fa3076ca2902",
   "metadata": {},
   "outputs": [
    {
     "name": "stdout",
     "output_type": "stream",
     "text": [
      "🔢 Year 5 + Terminal Value Sum: $763,679,601,906.33\n"
     ]
    }
   ],
   "source": [
    "# Sum of Year 5 cash flow + terminal value\n",
    "year5_flow_plus_terminal = fcf_proj[-1] + terminal_value\n",
    "print(f\"🔢 Year 5 + Terminal Value Sum: ${year5_flow_plus_terminal:,.2f}\")\n",
    "\n"
   ]
  },
  {
   "cell_type": "code",
   "execution_count": 185,
   "id": "4ad3a14d-344a-4c73-ab19-c61ff5b7b608",
   "metadata": {},
   "outputs": [
    {
     "name": "stdout",
     "output_type": "stream",
     "text": [
      "\n",
      "💰 Net Present Value (NPV): $644,308,206,871.46\n"
     ]
    }
   ],
   "source": [
    "# Build the list of cash flows for NPV, using the adjusted Year 5 cash flow\n",
    "flows_for_npv = fcf_proj[:-1] + [year5_flow_plus_terminal]\n",
    "\n",
    "# Calculate NPV by discounting each cash flow with the WACC\n",
    "years = range(1, len(flows_for_npv) + 1)\n",
    "npv = sum(flow / ((1 + wacc) ** t) for flow, t in zip(flows_for_npv, years))\n",
    "\n",
    "print(f\"\\n💰 Net Present Value (NPV): ${npv:,.2f}\")"
   ]
  },
  {
   "cell_type": "code",
   "execution_count": 186,
   "id": "84a76673-dcf8-4072-8311-492216b16ed7",
   "metadata": {},
   "outputs": [
    {
     "name": "stdout",
     "output_type": "stream",
     "text": [
      "💵 Cash & Equivalents for UNH: $25,312,000,000.00\n"
     ]
    }
   ],
   "source": [
    "def get_cash_and_equivalents(ticker):\n",
    "    url = f\"{BASE_URL}/balance-sheet-statement/{ticker}?limit=1&apikey={API_KEY}\"\n",
    "    response = requests.get(url)\n",
    "    \n",
    "    try:\n",
    "        data = response.json()\n",
    "        if isinstance(data, list) and len(data) > 0:\n",
    "            cash = data[0].get(\"cashAndCashEquivalents\", None)\n",
    "            if cash is not None:\n",
    "                print(f\"💵 Cash & Equivalents for {ticker.upper()}: ${cash:,.2f}\")\n",
    "                return cash\n",
    "            else:\n",
    "                print(\"❌ The 'cashAndCashEquivalents' field was not found.\")\n",
    "        else:\n",
    "            print(\"❌ Could not retrieve the financial statement.\")\n",
    "    except Exception as e:\n",
    "        print(\"❌ Error processing the API response:\", e)\n",
    "    \n",
    "    return None\n",
    "\n",
    "# Execution\n",
    "cash_and_equivalents = get_cash_and_equivalents(ticker)\n"
   ]
  },
  {
   "cell_type": "code",
   "execution_count": 187,
   "id": "2465e36a-941f-4cb2-8f5a-f9fd2b0b1462",
   "metadata": {},
   "outputs": [
    {
     "name": "stdout",
     "output_type": "stream",
     "text": [
      "\n",
      "📈 Equity Value: $592,716,206,871.46\n"
     ]
    }
   ],
   "source": [
    "equity_value = npv + cash_and_equivalents - total_debt\n",
    "print(f\"\\n📈 Equity Value: ${equity_value:,.2f}\")"
   ]
  },
  {
   "cell_type": "code",
   "execution_count": 188,
   "id": "aacf6030-3096-4744-b585-fb57d356f749",
   "metadata": {},
   "outputs": [
    {
     "name": "stdout",
     "output_type": "stream",
     "text": [
      "📊 Intrinsic Value per Share: $653.39\n"
     ]
    }
   ],
   "source": [
    "# Calculate intrinsic value per share\n",
    "if shares_outstanding and equity_value:\n",
    "    value_per_share = equity_value / shares_outstanding\n",
    "    print(f\"📊 Intrinsic Value per Share: ${value_per_share:,.2f}\")\n",
    "else:\n",
    "    print(\"❌ Missing data to calculate value per share.\")"
   ]
  },
  {
   "cell_type": "code",
   "execution_count": 189,
   "id": "d7fe303e-6555-47df-b411-9b195cc49597",
   "metadata": {},
   "outputs": [],
   "source": [
    "def get_market_cap_and_shares(ticker):\n",
    "    url = f\"{BASE_URL}/profile/{ticker}?apikey={API_KEY}\"\n",
    "    response = requests.get(url)\n",
    "\n",
    "    try:\n",
    "        data = response.json()\n",
    "        profile = data[0]\n",
    "\n",
    "        market_cap = profile.get(\"mktCap\")\n",
    "        shares_outstanding = profile.get(\"sharesOutstanding\")\n",
    "        price = profile.get(\"price\")  # 👈 here is the price\n",
    "\n",
    "        if shares_outstanding is None and market_cap and price:\n",
    "            shares_outstanding = market_cap / price\n",
    "            print(\"⚠️ Shares Outstanding estimated manually.\")\n",
    "\n",
    "        print(f\"📊 Ticker: {ticker.upper()}\")\n",
    "        print(f\"💼 Market Cap: ${market_cap:,.2f}\")\n",
    "        print(f\"📈 Shares Outstanding: {shares_outstanding:,.0f}\")\n",
    "        print(f\"💵 Share Price: ${price:,.2f}\")  # 👈 prints the price\n",
    "\n",
    "        return market_cap, shares_outstanding, price  # 👈 adds price\n",
    "\n",
    "    except Exception as e:\n",
    "        print(\"❌ Error retrieving data:\", e)\n",
    "        return None, None, None\n"
   ]
  },
  {
   "cell_type": "code",
   "execution_count": 190,
   "id": "29310501-9fc8-482f-a838-74567a39ea85",
   "metadata": {},
   "outputs": [
    {
     "name": "stderr",
     "output_type": "stream",
     "text": [
      "C:\\Users\\salas\\AppData\\Local\\Temp\\ipykernel_20944\\2925928612.py:21: UserWarning: Glyph 128202 (\\N{BAR CHART}) missing from font(s) DejaVu Sans.\n",
      "  plt.tight_layout()\n"
     ]
    },
    {
     "data": {
      "image/png": "[encoded data removed]",
      "text/plain": [
       "<Figure size 800x500 with 1 Axes>"
      ]
     },
     "metadata": {},
     "output_type": "display_data"
    }
   ],
   "source": [
    "# Create chart\n",
    "# Data\n",
    "labels = ['Intrinsic Value', 'Market Price']\n",
    "values = [value_per_share, price]\n",
    "colors = ['green', 'blue']\n",
    "\n",
    "# Create bar chart\n",
    "plt.figure(figsize=(8, 5))\n",
    "bars = plt.bar(labels, values, color=colors)\n",
    "\n",
    "# Add labels on top of the bars\n",
    "for bar in bars:\n",
    "    height = bar.get_height()\n",
    "    plt.text(bar.get_x() + bar.get_width() / 2, height,\n",
    "             f\"${height:,.2f}\", ha='center', va='bottom', fontsize=12)\n",
    "\n",
    "# Aesthetics\n",
    "plt.title(f'📊 Intrinsic Value vs Market Price – {ticker.upper()}')\n",
    "plt.ylabel('USD per Share')\n",
    "plt.grid(axis='y', linestyle='--', alpha=0.7)\n",
    "plt.tight_layout()\n",
    "\n",
    "# Display chart\n",
    "plt.show()"
   ]
  },
  {
   "cell_type": "code",
   "execution_count": null,
   "id": "7847b432-ad36-4409-85cb-33f21d605ae7",
   "metadata": {},
   "outputs": [],
   "source": []
  }
 ],
 "metadata": {
  "kernelspec": {
   "display_name": "Python 3 (ipykernel)",
   "language": "python",
   "name": "python3"
  },
  "language_info": {
   "codemirror_mode": {
    "name": "ipython",
    "version": 3
   },
   "file_extension": ".py",
   "mimetype": "text/x-python",
   "name": "python",
   "nbconvert_exporter": "python",
   "pygments_lexer": "ipython3",
   "version": "3.12.7"
  }
 },
 "nbformat": 4,
 "nbformat_minor": 5
}
